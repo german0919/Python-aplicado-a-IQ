{
 "cells": [
  {
   "cell_type": "code",
   "execution_count": 27,
   "metadata": {},
   "outputs": [
    {
     "name": "stdout",
     "output_type": "stream",
     "text": [
      "(array([[2.08841286],\n",
      "       [1.06233674]]), 4.708778048034823e-09, 3)\n"
     ]
    }
   ],
   "source": [
    "import numpy as np\n",
    "from matplotlib import pyplot as plt\n",
    "import sympy as sp \n",
    "from tabulate import tabulate\n",
    "\n",
    "from sympy.parsing.sympy_parser import parse_expr\n",
    "#FUNCION PARA OPTIMIZACIÓN MV POR EL MÉTODO DE NEWTON\n",
    "#V_i: valores iniciales en forma de lista [,...]\n",
    "#X: tupla con las variables entre (\"\",\"\"...)\n",
    "#v_F: Función objetivo \n",
    "def NRMV_opti(V_ic,X,v_F):\n",
    "    v_Var=sp.symbols(X)\n",
    "    Func=parse_expr(v_F)\n",
    "    G_f=[]# Matriz donde se guardaran derivadas del gradiente de f\n",
    "    #Inicia ciclo for para crear el gradiente y convertir \n",
    "    #lista de funciones a columna\n",
    "    funcion=Func\n",
    "    #Ciclo for anidado para ingresar derivadas por filas\n",
    "    for m in list(range(0,len(v_Var))):\n",
    "        d_F=sp.diff(funcion,v_Var[m])\n",
    "        G_f.append([d_F])\n",
    "    #Fin de for anidado\n",
    "    V_i=np.asarray(V_ic).reshape(-1,1)#Se transforma vector a matriz\n",
    "    v_hessi=sp.hessian(funcion,v_Var)\n",
    "    #Se convierten funciones a expresiones evaluables, que reciben\n",
    "    #la lista de valores iniciales\n",
    "    Gf_eval=sp.lambdify([v_Var],sp.Matrix(G_f))\n",
    "    hessi_eval=sp.lambdify([v_Var],sp.Matrix(v_hessi))\n",
    "    #se especifica que se va a trabajar con flotante sino la matriz quedara con objetos dtype\n",
    "    H = np.asarray(hessi_eval(V_ic), dtype=\"float\")\n",
    "    #Se definen condiciones de iteracion\n",
    "    xi=V_i-np.dot(np.linalg.inv(H),Gf_eval(V_ic))\n",
    "    Toly=1\n",
    "    i=0\n",
    "    while Toly>1e-6:\n",
    "        #Se actualiza el vector columna\n",
    "        V_i=xi\n",
    "        #Se transforma para entrar y evaluarse en el gradiente Gf y el hessiano\n",
    "        V_fi=np.asarray(V_i).reshape(1,-1)[0]  \n",
    "        H = np.asarray(hessi_eval(V_fi), dtype=\"float\")\n",
    "        xi=V_i-np.dot(np.linalg.inv(H),Gf_eval(V_fi))\n",
    "        Toly=np.sum(abs(Gf_eval(V_fi)))\n",
    "        i=i+1\n",
    "    return xi,Toly,i\n",
    "print(NRMV_opti([2,1],(\"k1\",\"k2\"),\"((1.05-(k1/(1+k2)))**2)+((1.25-(2*k1/(1+2*k2)))**2)+((1.55-(3*k1/(1+3*k2)))**2)+((1.59-(4*k1/(1+4*k2)))**2)\"))"
   ]
  },
  {
   "cell_type": "code",
   "execution_count": 23,
   "metadata": {
    "scrolled": true
   },
   "outputs": [
    {
     "name": "stdout",
     "output_type": "stream",
     "text": [
      "(array([[2.08841286],\n",
      "       [1.06233674]]), 4.708778048034823e-09, 3)\n"
     ]
    }
   ],
   "source": [
    "\n",
    "#print(NRMV_opti([1,1,1],(\"x1\",\"x2\",\"x3\"),\"(1920*(2*x1*x3+2*x2*x3))+(5000*x1*x2+800*(1000/(x1*x2*x3)))+(200*(1000/(10*x1*x2*x3)))\"))\n",
    "#print(NRMV_opti([1,1],(\"x1\",\"x2\"),\"2*x1**4+3*x2**4+2*x1**2+4*x2**2+x1*x2-3*x1-2*x2\"))\n",
    "#print(NRMV_opti([2.8,2.8,1.5],(\"k1\",\"k2\",\"k3\"),\"((k1*(exp(-0.5*k2)-exp(-0.5*k3))-0.263)**2)+((k1*(exp(-k2)-exp(-k3))-0.455)**2)+((k1*(exp(-1.5*k2)-exp(-1.5*k3))-0.548)**2)+((k1*(exp(-2*k2)-exp(-2*k3))-0.589)**2)\"))\n"
   ]
  },
  {
   "cell_type": "code",
   "execution_count": 29,
   "metadata": {},
   "outputs": [
    {
     "data": {
      "text/plain": [
       "      fun: 5.238362555396147\n",
       " hess_inv: array([[0.03326789]])\n",
       "      jac: array([2.02655792e-06])\n",
       "  message: 'Optimization terminated successfully.'\n",
       "     nfev: 16\n",
       "      nit: 6\n",
       "     njev: 8\n",
       "   status: 0\n",
       "  success: True\n",
       "        x: array([1.43096914])"
      ]
     },
     "execution_count": 29,
     "metadata": {},
     "output_type": "execute_result"
    }
   ],
   "source": [
    "import numpy as np\n",
    "from scipy.optimize import minimize\n",
    "x0 = np.array([0.5])\n",
    "def fun(x):\n",
    "    return 3*x[0]**2+(12/x[0]**3)-5\n",
    "#res = minimize(fun, x0, method='nelder-mead',options={'xatol': 1e-8, 'disp': True})\n",
    "res = minimize(fun, x0)\n",
    "res"
   ]
  },
  {
   "cell_type": "code",
   "execution_count": 2,
   "metadata": {},
   "outputs": [
    {
     "data": {
      "text/plain": [
       "[312.862799, 0.239222479, 0.0548357533, 27.6680498]"
      ]
     },
     "execution_count": 2,
     "metadata": {},
     "output_type": "execute_result"
    }
   ],
   "source": [
    "[3.12862799e+02, 2.39222479e-01, 5.48357533e-02, 2.76680498e+01]"
   ]
  }
 ],
 "metadata": {
  "kernelspec": {
   "display_name": "Python 3",
   "language": "python",
   "name": "python3"
  },
  "language_info": {
   "codemirror_mode": {
    "name": "ipython",
    "version": 3
   },
   "file_extension": ".py",
   "mimetype": "text/x-python",
   "name": "python",
   "nbconvert_exporter": "python",
   "pygments_lexer": "ipython3",
   "version": "3.8.3"
  }
 },
 "nbformat": 4,
 "nbformat_minor": 4
}
