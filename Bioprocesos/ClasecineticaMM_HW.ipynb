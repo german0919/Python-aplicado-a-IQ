{
 "cells": [
  {
   "cell_type": "code",
   "execution_count": 1,
   "metadata": {},
   "outputs": [],
   "source": [
    "import numpy as np\n",
    "import sympy as sp\n",
    "from matplotlib import pyplot as plt\n",
    "from  sklearn.metrics import r2_score"
   ]
  },
  {
   "cell_type": "markdown",
   "metadata": {},
   "source": [
    "**Ejercicio 1:** Se midió la velocidad de una reacción enzimática para diferentes concentraciones iniciales de sustrato y se obtuvieron los siguientes datos:"
   ]
  },
  {
   "cell_type": "markdown",
   "metadata": {},
   "source": [
    "|S[g/l]||v[g/Ls|\n",
    "|---||---|\n",
    "|3||10.4|\n",
    "|5||14.5|\n",
    "|10||22.5|\n",
    "|30||33.8|\n",
    "|90||40.5|"
   ]
  },
  {
   "cell_type": "markdown",
   "metadata": {},
   "source": [
    "**a) Calcule vmax y km\n",
    "b) Si la concentración alimentada de enzima fue de 1.785 g/L, cueal es el valor de k2\n",
    "c) Si se tiene otra enzima con km=12 g/L, ¿cual enzima recomendaría para catalizar el proceso?**"
   ]
  },
  {
   "cell_type": "code",
   "execution_count": 8,
   "metadata": {},
   "outputs": [
    {
     "data": {
      "image/png": "[encoded data removed]",
      "text/plain": [
       "<Figure size 432x288 with 1 Axes>"
      ]
     },
     "metadata": {
      "needs_background": "light"
     },
     "output_type": "display_data"
    },
    {
     "name": "stdout",
     "output_type": "stream",
     "text": [
      "Los coeficientes del polinomio son : [0.22398832 0.02240533]\n",
      "R^2 = 0.9988149969809061\n",
      "44.632232650274524\n",
      "9.99709866636211\n"
     ]
    }
   ],
   "source": [
    "S=np.asarray([3,5,10,30,90])\n",
    "v=np.asarray([10.4,14.5,22.5,33.8,40.5])\n",
    "i_s=1/S\n",
    "i_v=1/v\n",
    "plt.plot(i_s,i_v,\"bo-\")\n",
    "plt.grid(True)\n",
    "plt.xlabel(\"1/S\")\n",
    "plt.ylabel(\"1/v\")\n",
    "plt.show()\n",
    "#linealizar\n",
    "Regt=np.polyfit(i_s,i_v,1) #Ajuste lineal\n",
    "model=np.poly1d(Regt)\n",
    "\n",
    "print(\"Los coeficientes del polinomio son :\",Regt)\n",
    "R_2=r2_score(i_v,model(i_s))#Encontramos el R^2 segun los datos \n",
    "print(\"R^2 =\",R_2) \n",
    "vmax=1/Regt[1]\n",
    "print(vmax)\n",
    "km=vmax*Regt[0]\n",
    "print(km)"
   ]
  },
  {
   "cell_type": "markdown",
   "metadata": {},
   "source": [
    "**a)** $$\\vartheta max= 44.632 \\ [g/L*s] $$\n",
    "$$km= 9.997 \\ [g/L] $$"
   ]
  },
  {
   "cell_type": "markdown",
   "metadata": {},
   "source": [
    "**b)**$$\\vartheta max= k_2*E_0 $$\n",
    "$$k_2= \\vartheta max / E_0 $$\n",
    "$$k_2=\\frac{44.632}{1.785}= 25 \\ [g/L]$$"
   ]
  },
  {
   "cell_type": "markdown",
   "metadata": {},
   "source": [
    "**c)** Es mejor la primera enzima."
   ]
  },
  {
   "cell_type": "markdown",
   "metadata": {},
   "source": [
    "**Ejercicio 2:** La lactosa, también conocida como B-galactosidasa, cataliza la hidrolisis de la lactosa para producir glucosa y galactosa en suero de leche. Se han realizado experimentos para determinar los parámetros cinéticos de la enzima. Los datos se listan en la tabla anexada. Determine Vmax y km."
   ]
  },
  {
   "cell_type": "markdown",
   "metadata": {},
   "source": [
    "|Lactosa[M]||v[M/min|\n",
    "|---||---|\n",
    "|2.5||1.94|\n",
    "|2.27||1.91|\n",
    "|1.84||1.85|\n",
    "|1.35||1.8|\n",
    "|1.25||1.78|\n",
    "|0.73||1.46|\n",
    "|0.46||1.17|\n",
    "|0.204||0.779|"
   ]
  },
  {
   "cell_type": "code",
   "execution_count": 15,
   "metadata": {},
   "outputs": [
    {
     "data": {
      "image/png": "[encoded data removed]",
      "text/plain": [
       "<Figure size 432x288 with 1 Axes>"
      ]
     },
     "metadata": {
      "needs_background": "light"
     },
     "output_type": "display_data"
    },
    {
     "name": "stdout",
     "output_type": "stream",
     "text": [
      "Los coeficientes del polinomio son : [0.22398832 0.02240533]\n",
      "R^2 = 0.9984400342021789\n",
      "2.2481017415610287\n",
      "0.382781887752851\n"
     ]
    }
   ],
   "source": [
    "Sl=np.asarray([2.5,2.27,1.84,1.35,1.25,0.73,0.46,0.204])\n",
    "vl=np.asarray([1.94,1.91,1.85,1.8,1.78,1.46,1.17,0.779])\n",
    "s_v=Sl/vl\n",
    "plt.plot(Sl,s_v,\"ro-\")\n",
    "plt.grid(True)\n",
    "plt.xlabel(\"S\")\n",
    "plt.ylabel(\"S/v\")\n",
    "plt.show()\n",
    "#linealizar\n",
    "Regt2=np.polyfit(Sl,s_v,1) #Ajuste lineal\n",
    "model2=np.poly1d(Regt2)\n",
    "\n",
    "print(\"Los coeficientes del polinomio son :\",Regt)\n",
    "R_22=r2_score(s_v,model2(Sl))#Encontramos el R^2 segun los datos \n",
    "print(\"R^2 =\",R_22) \n",
    "vmax2=1/Regt2[0]\n",
    "print(vmax2)\n",
    "km2=vmax2*Regt2[1]\n",
    "print(km2)"
   ]
  },
  {
   "cell_type": "markdown",
   "metadata": {},
   "source": [
    "$$\\vartheta max= 2.248 $$\n",
    "$$k=0.3828 $$\n"
   ]
  },
  {
   "cell_type": "code",
   "execution_count": null,
   "metadata": {},
   "outputs": [],
   "source": []
  }
 ],
 "metadata": {
  "kernelspec": {
   "display_name": "Python 3",
   "language": "python",
   "name": "python3"
  },
  "language_info": {
   "codemirror_mode": {
    "name": "ipython",
    "version": 3
   },
   "file_extension": ".py",
   "mimetype": "text/x-python",
   "name": "python",
   "nbconvert_exporter": "python",
   "pygments_lexer": "ipython3",
   "version": "3.8.3"
  }
 },
 "nbformat": 4,
 "nbformat_minor": 4
}
