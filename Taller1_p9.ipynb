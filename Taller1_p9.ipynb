{
 "cells": [
  {
   "cell_type": "code",
   "execution_count": 3,
   "metadata": {},
   "outputs": [],
   "source": [
    "#-----------------------------------------\n",
    "#       German Hernández-2171842\n",
    "#-----------------------------------------\n",
    "import numpy as np\n",
    "import sympy as sp\n",
    "from matplotlib import pyplot as plt\n",
    "from  sklearn.metrics import r2_score"
   ]
  },
  {
   "cell_type": "code",
   "execution_count": 13,
   "metadata": {},
   "outputs": [
    {
     "data": {
      "image/png": "[encoded data removed]",
      "text/plain": [
       "<Figure size 432x288 with 1 Axes>"
      ]
     },
     "metadata": {
      "needs_background": "light"
     },
     "output_type": "display_data"
    },
    {
     "name": "stdout",
     "output_type": "stream",
     "text": [
      "Los coeficientes del polinomio son : [-8714.77307539    23.55238625]\n",
      "R^2 = 0.9881765142464917\n",
      "A = 16930562330.407394\n",
      "Ea = 17317.99705540769\n"
     ]
    }
   ],
   "source": [
    "#T=K\n",
    "T=np.asarray([40.4,36.8,33.1,30.0,25.1])+273.15\n",
    "#mu=h^-1\n",
    "mu=np.asarray([0.0140,.0112,.0074,.0051,.0036])\n",
    "#R= cal/molK\n",
    "R=1.9872\n",
    "plt.plot(1/T,np.log(mu),'bo')\n",
    "plt.xlabel(\"1/T\")\n",
    "plt.ylabel(\"ln(mu)\")\n",
    "plt.grid(True)\n",
    "Regt2=np.polyfit(1/T,np.log(mu),1) #Ajuste lineal\n",
    "model2=np.poly1d(Regt2)\n",
    "plt.show()\n",
    "print(\"Los coeficientes del polinomio son :\",Regt2)\n",
    "R_2=r2_score(np.log(mu),model2(1/T))#Encontramos el R^2 segun los datos \n",
    "print(\"R^2 =\",R_2) \n",
    "A=np.exp(Regt2[1])\n",
    "Ea=-Regt2[0]*R         \n",
    "print(\"A =\",A)\n",
    "print(\"Ea =\",Ea)"
   ]
  },
  {
   "cell_type": "markdown",
   "metadata": {},
   "source": [
    "Se ha medido 34000 bacterias luego de 4 horas de haber inoculado un medio. Despúes de 24 hr el número de bacterias aumentó a 5.2*10^6. Asumiendo que la fase de demora es despreciable, calcular:\n",
    "1. La velocidad específica de crecimiento.\n",
    "2. El número de bacterias que fueron inoculadas."
   ]
  },
  {
   "cell_type": "code",
   "execution_count": 17,
   "metadata": {},
   "outputs": [
    {
     "name": "stdout",
     "output_type": "stream",
     "text": [
      "[0.01438599 0.01041696 0.00741674 0.00554416 0.00345717]\n"
     ]
    }
   ],
   "source": [
    "#Velocidad especifica de crecimiento\n",
    "miu=A*np.exp(-Ea/(R*T))\n",
    "print(miu)"
   ]
  },
  {
   "cell_type": "markdown",
   "metadata": {},
   "source": [
    "$$x=x_0e^{\\mu t}$$ \n",
    "$$x(4)=34000$$\n",
    "$$x(24)=5.2\\cdot 10^6$$\n"
   ]
  }
 ],
 "metadata": {
  "kernelspec": {
   "display_name": "Python 3",
   "language": "python",
   "name": "python3"
  },
  "language_info": {
   "codemirror_mode": {
    "name": "ipython",
    "version": 3
   },
   "file_extension": ".py",
   "mimetype": "text/x-python",
   "name": "python",
   "nbconvert_exporter": "python",
   "pygments_lexer": "ipython3",
   "version": "3.8.3"
  }
 },
 "nbformat": 4,
 "nbformat_minor": 4
}
